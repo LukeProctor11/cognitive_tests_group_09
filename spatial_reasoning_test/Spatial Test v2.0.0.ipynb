{
 "cells": [
  {
   "cell_type": "markdown",
   "id": "355d0a07-6179-4cd3-9a93-d68580c2283c",
   "metadata": {},
   "source": [
    "Importing libraries"
   ]
  },
  {
   "cell_type": "markdown",
   "id": "56418eec-1bf4-407b-8419-07a1ec2eeb7e",
   "metadata": {},
   "source": [
    "## Instructions for testers: scroll to bottom and run function run_spatial_reasoning()."
   ]
  },
  {
   "cell_type": "markdown",
   "id": "705be1c4-785f-4b4f-9027-5ffff91d16f8",
   "metadata": {},
   "source": [
    "### Importing jupyter_ui_poll (comment out if already installed)"
   ]
  },
  {
   "cell_type": "code",
   "execution_count": 8,
   "id": "5607a6f0-8a33-496d-94c0-a445b1ae5572",
   "metadata": {
    "tags": []
   },
   "outputs": [],
   "source": [
    "#%pip install jupyter_ui_poll\n",
    "#%pip install firebase-admin"
   ]
  },
  {
   "cell_type": "markdown",
   "id": "3928ad03-e8c9-43ce-8208-2707d50a51d5",
   "metadata": {},
   "source": [
    "### Importing libraries"
   ]
  },
  {
   "cell_type": "code",
   "execution_count": 9,
   "id": "aa13af9d-dde4-487f-a56e-8ef2907bad0f",
   "metadata": {
    "tags": []
   },
   "outputs": [],
   "source": [
    "from IPython.display import display, HTML, Image, clear_output\n",
    "from bs4 import BeautifulSoup\n",
    "from jupyter_ui_poll import ui_events\n",
    "from ipywidgets import Text, VBox, Button\n",
    "\n",
    "import ipywidgets as widgets\n",
    "import requests\n",
    "import json \n",
    "import time"
   ]
  },
  {
   "cell_type": "markdown",
   "id": "d9d78e6e-71e3-4c50-be1d-72adc84e62d4",
   "metadata": {},
   "source": [
    "### Function linking to google document:"
   ]
  },
  {
   "cell_type": "code",
   "execution_count": 10,
   "id": "47d25b2d-1915-400d-b0a3-8665e7ec4888",
   "metadata": {
    "tags": []
   },
   "outputs": [],
   "source": [
    "# copied from code on Moodle material\n",
    "\n",
    "def send_to_google_form(data_dict, form_url):\n",
    "    ''' Helper function to upload information to a corresponding google form \n",
    "        You are not expected to follow the code within this function!\n",
    "    '''\n",
    "    form_id = form_url[34:90]\n",
    "    view_form_url = f'https://docs.google.com/forms/d/e/{form_id}/viewform'\n",
    "    post_form_url = f'https://docs.google.com/forms/d/e/{form_id}/formResponse'\n",
    "\n",
    "    page = requests.get(view_form_url)\n",
    "    content = BeautifulSoup(page.content, \"html.parser\").find('script', type='text/javascript')\n",
    "    content = content.text[27:-1]\n",
    "    result = json.loads(content)[1][1]\n",
    "    form_dict = {}\n",
    "    \n",
    "    loaded_all = True\n",
    "    for item in result:\n",
    "        if item[1] not in data_dict:\n",
    "            print(f\"Form item {item[1]} not found. Data not uploaded.\")\n",
    "            loaded_all = False\n",
    "            return False\n",
    "        form_dict[f'entry.{item[4][0][0]}'] = data_dict[item[1]]\n",
    "    \n",
    "    post_result = requests.post(post_form_url, data=form_dict)\n",
    "    return post_result.ok"
   ]
  },
  {
   "cell_type": "markdown",
   "id": "4f2bddcf-5c00-4977-828b-aaef9c383f22",
   "metadata": {},
   "source": [
    "### Function for buttons:\n",
    "First function defines button activity (input and output)\n",
    "\n",
    "Second function lets buttons register events when clicked"
   ]
  },
  {
   "cell_type": "code",
   "execution_count": 18,
   "id": "f3160e4d-6960-4c75-affc-272202e224ae",
   "metadata": {
    "tags": []
   },
   "outputs": [],
   "source": [
    "# copy this code to the top cell of your notebook to be able to\n",
    "# include buttons as in the example below\n",
    "\n",
    "# you may need to run\n",
    "# pip install ipywidgets, \n",
    "# pip install jupyter_ui_poll \n",
    "# if running on your own computer\n",
    "\n",
    "def wait_for_event(timeout=-1, interval=0.001, max_rate=20, allow_interupt=True):    \n",
    "    start_wait = time.time()\n",
    "\n",
    "    # set event info to be empty as this is dict we can change entries directly without using the global keyword\n",
    "    event_info['description'] = \"\"\n",
    "    event_info['time'] = -1\n",
    "\n",
    "    n_proc = int(max_rate*interval)+1\n",
    "    \n",
    "    with ui_events() as ui_poll:\n",
    "        keep_looping = True\n",
    "        while keep_looping==True:\n",
    "            # process UI events\n",
    "            ui_poll(n_proc)\n",
    "\n",
    "            # end loop if we have waited more than the timeout period\n",
    "            if (timeout != -1) and (time.time() > start_wait + timeout):\n",
    "                keep_looping = False\n",
    "                \n",
    "            # end loop if event has occured\n",
    "            if allow_interupt==True and event_info['description']!=\"\":\n",
    "                keep_looping = False\n",
    "                \n",
    "            # add pause before looping\n",
    "            # to check events again\n",
    "            time.sleep(interval)\n",
    "    \n",
    "    # return event description after wait ends will be set to empty string '' if no event occured\n",
    "    return event_info\n",
    "\n",
    "# this function displays a 'Confirm' button that will clear output when clicked.\n",
    "\n",
    "def register_btn_event(btn):\n",
    "    event_info['type'] = \"button click\"\n",
    "    event_info['description'] = btn.description\n",
    "    event_info['time'] = time.time()\n",
    "    return\n",
    "\n",
    "def submit_button():\n",
    "    confirm_btn = widgets.Button(description = \"Submit\")\n",
    "    display(confirm_btn)\n",
    "    confirm_btn.on_click(register_btn_event)\n",
    "    wait_for_event()\n",
    "    clear_output(wait = False)\n",
    "    return"
   ]
  },
  {
   "cell_type": "markdown",
   "id": "34deb906-e0ec-4f03-bada-5d86076ca368",
   "metadata": {},
   "source": [
    "### Quiz code"
   ]
  },
  {
   "cell_type": "markdown",
   "id": "5f4831de-c2f3-4a11-b70d-3f40c51802d9",
   "metadata": {},
   "source": [
    "### Introduction code:\n",
    "TODO: input parameters to stop test / reject response if needed."
   ]
  },
  {
   "cell_type": "markdown",
   "id": "964ccff2-a183-4bf4-a5da-60ce0f0972f3",
   "metadata": {},
   "source": [
    "Improvements**\n",
    "- age question - fix the test stopping"
   ]
  },
  {
   "cell_type": "code",
   "execution_count": 31,
   "id": "41b06d4a-8698-4244-aa53-6093f6e824a4",
   "metadata": {
    "tags": []
   },
   "outputs": [],
   "source": [
    "def run_introduction():\n",
    "    global user_id, name, age, gender\n",
    "\n",
    "    display(HTML(\"<span style ='color:black; font-size:40px;'>Welcome to the Spatial Reasoning Test!</span>\"))\n",
    "\n",
    "    time.sleep(1)\n",
    "    clear_output()\n",
    "\n",
    "    display(HTML(\"<span style ='color:black; font-size:20px;'>To start off, please consent to the use of your data for research purposes.</span>\"))\n",
    "    data_permission = widgets.RadioButtons(options=['Yes', 'No'], description='I consent', disabled=False)\n",
    "    display(data_permission)\n",
    "    submit_button()\n",
    "\n",
    "    display(HTML(\"<span style ='color:black;'>Please create an anonymous ID.<br/> To generate an anonymous 4-letter unique user identifier please enter:<br /> - two letters based on the initials (first and last name) of a childhood friend<br /> - two letters based on the initials (first and last name) of a favourite actor / actress<br /> e.g. if your friend was called Charlie Brown and film star was Tom Cruise, your unique identifier would be CBTC</span>\"))\n",
    "    user_id_prompt = Text(description = \"UserID:\")\n",
    "    display(user_id_prompt)\n",
    "    submit_button()\n",
    "    user_id = user_id_prompt.value.upper() # records unique identifier\n",
    "\n",
    "    display(HTML(f'<span>Great! Your unique identifier is: {user_id}</span>'))\n",
    "\n",
    "    time.sleep(1.5)\n",
    "    clear_output()\n",
    "    display(HTML(\"<span>What is your name?\"))\n",
    "    name_prompt = Text(description = \"Name:\")    \n",
    "    display(name_prompt)\n",
    "    submit_button()\n",
    "    name = name_prompt.value.lower().capitalize() # records name\n",
    "\n",
    "\n",
    "    display(HTML(\"<span>What is your age?\"))\n",
    "    age_dropdown = widgets.Dropdown(options=[('Select Age', None)] + [(str(age), age) for age in range(18, 30)], value=None)\n",
    "    display(age_dropdown)\n",
    "    submit_button()\n",
    "    age = age_dropdown.value\n",
    "\n",
    "    display(HTML(\"<span>What is your gender?</span>\"))\n",
    "    gender_button = widgets.RadioButtons(options=['Male', 'Female', 'Other'], description='Select gender', disabled=False)\n",
    "    display(gender_button)\n",
    "    submit_button()\n",
    "    gender = gender_button.value\n",
    "\n",
    "    display(HTML(f\"<span>Confirm: I am {age} years old and identify as {gender}\"))\n",
    "    submit_button()\n",
    "\n",
    "    display(HTML(f\"<span style ='font-size:30px;'>Thank you {name}. You will now be directed to the test. </span>\"))\n",
    "    time.sleep(2)\n",
    "    \n",
    "    # Test instructions:\n",
    "    display(HTML(f\"<span style ='font-size:30px;'> There are {len(questions)} questions. </span>\"))\n",
    "    time.sleep(3)\n",
    "    display(HTML(f\"<span style ='font-size:20px;'>Questions will be shown one at a time: Your task is to select the 2D figure matching the large 3D figure.</span>\"))\n",
    "    time.sleep(3)\n",
    "    display(HTML(f\"<span style ='font-size:20px;'>Click A, B, C or D to record your answer.</span>\"))\n",
    "    time.sleep(3)\n",
    "    display(HTML(f\"<span style ='font-size:15px;'>Think carefully before answering!</span>\"))\n",
    "    time.sleep(3)\n",
    "\n",
    "    clear_output()\n",
    "    \n",
    "    display(HTML(f\"<span style ='font-size:30px;'>Test will begin in</span>\"))\n",
    "    time.sleep(1.5)\n",
    "    clear_output()\n",
    "    display(HTML(f\"<span style ='font-size:30px;'>3</span>\"))\n",
    "    time.sleep(1)\n",
    "    clear_output()\n",
    "    display(HTML(f\"<span style ='font-size:30px;'>2</span>\"))\n",
    "    time.sleep(1)\n",
    "    clear_output()\n",
    "    display(HTML(f\"<span style ='font-size:30px;'>1</span>\"))\n",
    "    time.sleep(1)\n",
    "    clear_output()\n",
    "\n",
    "    return user_id, age, gender, name"
   ]
  },
  {
   "cell_type": "code",
   "execution_count": 24,
   "id": "a5faef20-e992-483e-946e-cd7277dbb6b1",
   "metadata": {
    "tags": []
   },
   "outputs": [
    {
     "data": {
      "text/plain": [
       "('FTSB', 19, 'Male', 'Fiona')"
      ]
     },
     "execution_count": 24,
     "metadata": {},
     "output_type": "execute_result"
    }
   ],
   "source": [
    "run_introduction()"
   ]
  },
  {
   "cell_type": "markdown",
   "id": "a333e21b-4962-4439-9592-a6e2a6578e51",
   "metadata": {},
   "source": [
    "### Test code"
   ]
  },
  {
   "cell_type": "code",
   "execution_count": 14,
   "id": "b82da499-a554-46bc-8848-a451546504d9",
   "metadata": {
    "tags": []
   },
   "outputs": [],
   "source": [
    "# placing questions in variable\n",
    "questions = {\n",
    "    1: [Image(\"qn1_slide.png\", width = 900), 'C'],\n",
    "    2: [Image(\"qn2_slide.png\", width = 900), 'B'],\n",
    "    3: [Image(\"qn3_slide.png\", width = 900), 'D'],\n",
    "    4: [Image(\"qn4_slide.png\", width = 900), 'A'],\n",
    "    5: [Image(\"qn5_slide.png\", width = 900), 'C'],\n",
    "}"
   ]
  },
  {
   "cell_type": "code",
   "execution_count": 15,
   "id": "3d5662fb-3fd8-4994-8e36-e89f858543ac",
   "metadata": {
    "tags": []
   },
   "outputs": [],
   "source": [
    "def next_question():\n",
    "    global qn_number, start_time, correct_answer, total_questions\n",
    "    \n",
    "    total_questions = len(questions)\n",
    "    \n",
    "    if qn_number <= total_questions:\n",
    "        # Get the next question and correct answer\n",
    "        correct_answer = questions[qn_number][1]\n",
    "\n",
    "        # Display the question and options\n",
    "        display(HTML(f\"<span style ='font-size:20px;'>Pick the option that does not match the Figure. </span>\"))\n",
    "        display(questions[qn_number][0])  # Index 0 holds the question image\n",
    "\n",
    "def display_qn_button_panel(correct_answer):\n",
    "    global qn_number, start_time, selected_option\n",
    "    \n",
    "    btnA = widgets.Button(description='A')\n",
    "    btnB = widgets.Button(description='B')\n",
    "    btnC = widgets.Button(description='C')\n",
    "    btnD = widgets.Button(description='D')\n",
    "\n",
    "    btnA.on_click(register_btn_event)\n",
    "    btnB.on_click(register_btn_event)\n",
    "    btnC.on_click(register_btn_event)\n",
    "    btnD.on_click(register_btn_event)\n",
    "    \n",
    "    panel = widgets.HBox([btnA, btnB, btnC, btnD]) # puts buttons in horizontal box\n",
    "    display(panel)\n",
    "    wait_for_event() \n",
    "    \n",
    "    return "
   ]
  },
  {
   "cell_type": "code",
   "execution_count": 29,
   "id": "c1795185-d2aa-4192-a8db-84c71f23c3e8",
   "metadata": {
    "tags": []
   },
   "outputs": [],
   "source": [
    "def run_spatial_reasoning(): \n",
    "\n",
    "    global event_info\n",
    "    event_info = {'type': \"\",\n",
    "                'description': \"\",\n",
    "                'time': -1}\n",
    "\n",
    "    run_introduction()\n",
    "\n",
    "    # initialise result and time lists\n",
    "    global result_recording, time_recording\n",
    "     \n",
    "    result_recording = [] \n",
    "    time_recording = []\n",
    "\n",
    "    # initialising questions\n",
    "    global qn_number\n",
    "    qn_number = 1\n",
    "    \n",
    "    while qn_number <= 5 :\n",
    "        next_question()\n",
    "        \n",
    "        start_time = time.time()\n",
    "        \n",
    "        display_qn_button_panel(correct_answer)\n",
    "        selected_option = event_info[\"description\"]\n",
    "        \n",
    "        end_time = time.time()\n",
    "\n",
    "        if selected_option == correct_answer:\n",
    "            result_recording.append('correct')\n",
    "            display(HTML(f\"<span style ='font-size:20px; color: green;'>Correct</span style>\"))\n",
    "        else:\n",
    "            result_recording.append('wrong')\n",
    "            display(HTML(f\"<span style ='font-size:20px; color: red;'>Wrong</span style>\"))\n",
    "        \n",
    "        time.sleep(1)\n",
    "        time_taken = end_time - start_time  # records time taken\n",
    "        time_recording.append(time_taken) # uploads time to the list time_recording\n",
    "        \n",
    "        clear_output()\n",
    "        qn_number += 1\n",
    "        \n",
    "    total_time = sum(time_recording)\n",
    "    \n",
    "    # recording score\n",
    "    count_correct = result_recording.count('correct')\n",
    "    count_wrong = result_recording.count('wrong')\n",
    "    \n",
    "    display(HTML(f\"<span style = 'font-size:20px;'>Test completed! You took {total_time:.2f} seconds to complete the test. </br>Correct: {count_correct}</br>Wrong: {count_wrong}</span>\"))\n",
    "    \n",
    "    # uploading info to Google form\n",
    "    data_dict = {\n",
    "        'name': name,\n",
    "        'age': age,\n",
    "        'gender': gender,\n",
    "        'time_recording': time_recording,\n",
    "        'result_recording': result_recording,\n",
    "    }\n",
    "    \n",
    "    form_url = 'https://docs.google.com/forms/d/e/1FAIpQLScWK1ct97GZOKZM3t2HUJuAP1XJXfbttUrwfDBusMsdSjy23Q/viewform?usp=sf_link'\n",
    "    send_to_google_form(data_dict, form_url)\n",
    "\n",
    "    if send_to_google_form(data_dict, form_url) == True:\n",
    "        display(HTML(f\"<span style = 'font-size:10px;'>Data has been uploaded.</span>\"))\n",
    "\n",
    "    return"
   ]
  },
  {
   "cell_type": "markdown",
   "id": "b62260b0-bd3c-4c37-8c4e-d39281367c03",
   "metadata": {},
   "source": [
    "## Run test"
   ]
  },
  {
   "cell_type": "code",
   "execution_count": 30,
   "id": "3f439ecb-9bbf-4ddf-9c37-15f2f08824a8",
   "metadata": {
    "tags": []
   },
   "outputs": [
    {
     "data": {
      "text/html": [
       "<span style ='color:black; font-size:20px;'>To start off, please consent to the use of your data for research purposes.</span>"
      ],
      "text/plain": [
       "<IPython.core.display.HTML object>"
      ]
     },
     "metadata": {},
     "output_type": "display_data"
    },
    {
     "data": {
      "application/vnd.jupyter.widget-view+json": {
       "model_id": "ad618994f8a44963a401bede4ebb6fe1",
       "version_major": 2,
       "version_minor": 0
      },
      "text/plain": [
       "RadioButtons(description='I consent', options=('Yes', 'No'), value='Yes')"
      ]
     },
     "metadata": {},
     "output_type": "display_data"
    },
    {
     "data": {
      "application/vnd.jupyter.widget-view+json": {
       "model_id": "14e39dbadbec4e9d81dae34ebd62c136",
       "version_major": 2,
       "version_minor": 0
      },
      "text/plain": [
       "Button(description='Submit', style=ButtonStyle())"
      ]
     },
     "metadata": {},
     "output_type": "display_data"
    },
    {
     "ename": "KeyboardInterrupt",
     "evalue": "",
     "output_type": "error",
     "traceback": [
      "\u001b[0;31m---------------------------------------------------------------------------\u001b[0m",
      "\u001b[0;31mKeyboardInterrupt\u001b[0m                         Traceback (most recent call last)",
      "Cell \u001b[0;32mIn[30], line 1\u001b[0m\n\u001b[0;32m----> 1\u001b[0m \u001b[43mrun_spatial_reasoning\u001b[49m\u001b[43m(\u001b[49m\u001b[43m)\u001b[49m\n",
      "Cell \u001b[0;32mIn[29], line 8\u001b[0m, in \u001b[0;36mrun_spatial_reasoning\u001b[0;34m()\u001b[0m\n\u001b[1;32m      3\u001b[0m \u001b[38;5;28;01mglobal\u001b[39;00m event_info\n\u001b[1;32m      4\u001b[0m event_info \u001b[38;5;241m=\u001b[39m {\u001b[38;5;124m'\u001b[39m\u001b[38;5;124mtype\u001b[39m\u001b[38;5;124m'\u001b[39m: \u001b[38;5;124m\"\u001b[39m\u001b[38;5;124m\"\u001b[39m,\n\u001b[1;32m      5\u001b[0m             \u001b[38;5;124m'\u001b[39m\u001b[38;5;124mdescription\u001b[39m\u001b[38;5;124m'\u001b[39m: \u001b[38;5;124m\"\u001b[39m\u001b[38;5;124m\"\u001b[39m,\n\u001b[1;32m      6\u001b[0m             \u001b[38;5;124m'\u001b[39m\u001b[38;5;124mtime\u001b[39m\u001b[38;5;124m'\u001b[39m: \u001b[38;5;241m-\u001b[39m\u001b[38;5;241m1\u001b[39m}\n\u001b[0;32m----> 8\u001b[0m \u001b[43mrun_introduction\u001b[49m\u001b[43m(\u001b[49m\u001b[43m)\u001b[49m\n\u001b[1;32m     10\u001b[0m \u001b[38;5;66;03m# initialise result and time lists\u001b[39;00m\n\u001b[1;32m     11\u001b[0m \u001b[38;5;28;01mglobal\u001b[39;00m result_recording, time_recording\n",
      "Cell \u001b[0;32mIn[25], line 12\u001b[0m, in \u001b[0;36mrun_introduction\u001b[0;34m()\u001b[0m\n\u001b[1;32m     10\u001b[0m data_permission \u001b[38;5;241m=\u001b[39m widgets\u001b[38;5;241m.\u001b[39mRadioButtons(options\u001b[38;5;241m=\u001b[39m[\u001b[38;5;124m'\u001b[39m\u001b[38;5;124mYes\u001b[39m\u001b[38;5;124m'\u001b[39m, \u001b[38;5;124m'\u001b[39m\u001b[38;5;124mNo\u001b[39m\u001b[38;5;124m'\u001b[39m], description\u001b[38;5;241m=\u001b[39m\u001b[38;5;124m'\u001b[39m\u001b[38;5;124mI consent\u001b[39m\u001b[38;5;124m'\u001b[39m, disabled\u001b[38;5;241m=\u001b[39m\u001b[38;5;28;01mFalse\u001b[39;00m)\n\u001b[1;32m     11\u001b[0m display(data_permission)\n\u001b[0;32m---> 12\u001b[0m \u001b[43msubmit_button\u001b[49m\u001b[43m(\u001b[49m\u001b[43m)\u001b[49m\n\u001b[1;32m     14\u001b[0m display(HTML(\u001b[38;5;124m\"\u001b[39m\u001b[38;5;124m<span style =\u001b[39m\u001b[38;5;124m'\u001b[39m\u001b[38;5;124mcolor:black;\u001b[39m\u001b[38;5;124m'\u001b[39m\u001b[38;5;124m>Please create an anonymous ID.<br/> To generate an anonymous 4-letter unique user identifier please enter:<br /> - two letters based on the initials (first and last name) of a childhood friend<br /> - two letters based on the initials (first and last name) of a favourite actor / actress<br /> e.g. if your friend was called Charlie Brown and film star was Tom Cruise, your unique identifier would be CBTC</span>\u001b[39m\u001b[38;5;124m\"\u001b[39m))\n\u001b[1;32m     15\u001b[0m user_id_prompt \u001b[38;5;241m=\u001b[39m Text(description \u001b[38;5;241m=\u001b[39m \u001b[38;5;124m\"\u001b[39m\u001b[38;5;124mUserID:\u001b[39m\u001b[38;5;124m\"\u001b[39m)\n",
      "Cell \u001b[0;32mIn[18], line 51\u001b[0m, in \u001b[0;36msubmit_button\u001b[0;34m()\u001b[0m\n\u001b[1;32m     49\u001b[0m display(confirm_btn)\n\u001b[1;32m     50\u001b[0m confirm_btn\u001b[38;5;241m.\u001b[39mon_click(register_btn_event)\n\u001b[0;32m---> 51\u001b[0m \u001b[43mwait_for_event\u001b[49m\u001b[43m(\u001b[49m\u001b[43m)\u001b[49m\n\u001b[1;32m     52\u001b[0m clear_output(wait \u001b[38;5;241m=\u001b[39m \u001b[38;5;28;01mFalse\u001b[39;00m)\n\u001b[1;32m     53\u001b[0m \u001b[38;5;28;01mreturn\u001b[39;00m\n",
      "Cell \u001b[0;32mIn[18], line 22\u001b[0m, in \u001b[0;36mwait_for_event\u001b[0;34m(timeout, interval, max_rate, allow_interupt)\u001b[0m\n\u001b[1;32m     19\u001b[0m keep_looping \u001b[38;5;241m=\u001b[39m \u001b[38;5;28;01mTrue\u001b[39;00m\n\u001b[1;32m     20\u001b[0m \u001b[38;5;28;01mwhile\u001b[39;00m keep_looping\u001b[38;5;241m==\u001b[39m\u001b[38;5;28;01mTrue\u001b[39;00m:\n\u001b[1;32m     21\u001b[0m     \u001b[38;5;66;03m# process UI events\u001b[39;00m\n\u001b[0;32m---> 22\u001b[0m     \u001b[43mui_poll\u001b[49m\u001b[43m(\u001b[49m\u001b[43mn_proc\u001b[49m\u001b[43m)\u001b[49m\n\u001b[1;32m     24\u001b[0m     \u001b[38;5;66;03m# end loop if we have waited more than the timeout period\u001b[39;00m\n\u001b[1;32m     25\u001b[0m     \u001b[38;5;28;01mif\u001b[39;00m (timeout \u001b[38;5;241m!=\u001b[39m \u001b[38;5;241m-\u001b[39m\u001b[38;5;241m1\u001b[39m) \u001b[38;5;129;01mand\u001b[39;00m (time\u001b[38;5;241m.\u001b[39mtime() \u001b[38;5;241m>\u001b[39m start_wait \u001b[38;5;241m+\u001b[39m timeout):\n",
      "File \u001b[0;32m~/Library/jupyterlab-desktop/jlab_server/lib/python3.12/site-packages/jupyter_ui_poll/_async_thread.py:42\u001b[0m, in \u001b[0;36mAsyncThread.wrap.<locals>.sync_func\u001b[0;34m(*args, **kwargs)\u001b[0m\n\u001b[1;32m     41\u001b[0m \u001b[38;5;28;01mdef\u001b[39;00m \u001b[38;5;21msync_func\u001b[39m(\u001b[38;5;241m*\u001b[39margs, \u001b[38;5;241m*\u001b[39m\u001b[38;5;241m*\u001b[39mkwargs):\n\u001b[0;32m---> 42\u001b[0m     \u001b[38;5;28;01mreturn\u001b[39;00m \u001b[38;5;28;43mself\u001b[39;49m\u001b[38;5;241;43m.\u001b[39;49m\u001b[43msubmit\u001b[49m\u001b[43m(\u001b[49m\u001b[43mfunc\u001b[49m\u001b[43m,\u001b[49m\u001b[43m \u001b[49m\u001b[38;5;241;43m*\u001b[39;49m\u001b[43margs\u001b[49m\u001b[43m,\u001b[49m\u001b[43m \u001b[49m\u001b[38;5;241;43m*\u001b[39;49m\u001b[38;5;241;43m*\u001b[39;49m\u001b[43mkwargs\u001b[49m\u001b[43m)\u001b[49m\u001b[38;5;241;43m.\u001b[39;49m\u001b[43mresult\u001b[49m\u001b[43m(\u001b[49m\u001b[43m)\u001b[49m\n",
      "File \u001b[0;32m~/Library/jupyterlab-desktop/jlab_server/lib/python3.12/concurrent/futures/_base.py:451\u001b[0m, in \u001b[0;36mFuture.result\u001b[0;34m(self, timeout)\u001b[0m\n\u001b[1;32m    448\u001b[0m \u001b[38;5;28;01melif\u001b[39;00m \u001b[38;5;28mself\u001b[39m\u001b[38;5;241m.\u001b[39m_state \u001b[38;5;241m==\u001b[39m FINISHED:\n\u001b[1;32m    449\u001b[0m     \u001b[38;5;28;01mreturn\u001b[39;00m \u001b[38;5;28mself\u001b[39m\u001b[38;5;241m.\u001b[39m__get_result()\n\u001b[0;32m--> 451\u001b[0m \u001b[38;5;28;43mself\u001b[39;49m\u001b[38;5;241;43m.\u001b[39;49m\u001b[43m_condition\u001b[49m\u001b[38;5;241;43m.\u001b[39;49m\u001b[43mwait\u001b[49m\u001b[43m(\u001b[49m\u001b[43mtimeout\u001b[49m\u001b[43m)\u001b[49m\n\u001b[1;32m    453\u001b[0m \u001b[38;5;28;01mif\u001b[39;00m \u001b[38;5;28mself\u001b[39m\u001b[38;5;241m.\u001b[39m_state \u001b[38;5;129;01min\u001b[39;00m [CANCELLED, CANCELLED_AND_NOTIFIED]:\n\u001b[1;32m    454\u001b[0m     \u001b[38;5;28;01mraise\u001b[39;00m CancelledError()\n",
      "File \u001b[0;32m~/Library/jupyterlab-desktop/jlab_server/lib/python3.12/threading.py:355\u001b[0m, in \u001b[0;36mCondition.wait\u001b[0;34m(self, timeout)\u001b[0m\n\u001b[1;32m    353\u001b[0m \u001b[38;5;28;01mtry\u001b[39;00m:    \u001b[38;5;66;03m# restore state no matter what (e.g., KeyboardInterrupt)\u001b[39;00m\n\u001b[1;32m    354\u001b[0m     \u001b[38;5;28;01mif\u001b[39;00m timeout \u001b[38;5;129;01mis\u001b[39;00m \u001b[38;5;28;01mNone\u001b[39;00m:\n\u001b[0;32m--> 355\u001b[0m         \u001b[43mwaiter\u001b[49m\u001b[38;5;241;43m.\u001b[39;49m\u001b[43macquire\u001b[49m\u001b[43m(\u001b[49m\u001b[43m)\u001b[49m\n\u001b[1;32m    356\u001b[0m         gotit \u001b[38;5;241m=\u001b[39m \u001b[38;5;28;01mTrue\u001b[39;00m\n\u001b[1;32m    357\u001b[0m     \u001b[38;5;28;01melse\u001b[39;00m:\n",
      "\u001b[0;31mKeyboardInterrupt\u001b[0m: "
     ]
    }
   ],
   "source": [
    "run_spatial_reasoning()"
   ]
  },
  {
   "cell_type": "code",
   "execution_count": null,
   "id": "faa8f87d-5843-4515-8b57-6843619a4750",
   "metadata": {},
   "outputs": [],
   "source": []
  }
 ],
 "metadata": {
  "kernelspec": {
   "display_name": "Python 3 (ipykernel)",
   "language": "python",
   "name": "python3"
  },
  "language_info": {
   "codemirror_mode": {
    "name": "ipython",
    "version": 3
   },
   "file_extension": ".py",
   "mimetype": "text/x-python",
   "name": "python",
   "nbconvert_exporter": "python",
   "pygments_lexer": "ipython3",
   "version": "3.12.1"
  }
 },
 "nbformat": 4,
 "nbformat_minor": 5
}
