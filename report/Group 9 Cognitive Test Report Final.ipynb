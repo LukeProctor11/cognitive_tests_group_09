{
 "cells": [
  {
   "cell_type": "markdown",
   "id": "14f8a497-8871-48ea-9b47-ee9913d8b840",
   "metadata": {},
   "source": [
    "> # **Comparing ANS to other Cognitive Tests and investigating the different performances of Gender**\n",
    ">##### Bobby Davidson, Luke Procter, Fiona Ee, Gayatri Kumar"
   ]
  },
  {
   "cell_type": "markdown",
   "id": "97ca00fd-1846-48e7-ab67-2ad381b75d10",
   "metadata": {},
   "source": [
    "> ## Introduction"
   ]
  },
  {
   "cell_type": "markdown",
   "id": "54a65233-6c97-4fc7-879e-442c09a7b230",
   "metadata": {},
   "source": [
    "86 billion neurons, 85 billion other cells, and over 100 trillion connections; the human brain is known as one of the most complex structures in scientific study [(Pang, 2023)](#Pang-2023). As a means to heuristically understand each individuals’ cognitive abilities, cognitive tests can be used to gauge individuals’ functional abilities for daily activities. Nonexhaustively, these tests have numerous applications to research around human development, disabilities and professional aptitude [(Freedman & Manly, 2015)](#Freedman-&-Manly-2015). \n",
    "\n",
    "More generally, data from these tests will allow for deeper insights regarding cognitive ability in relation to age, gender, and individual lifestyle choices. For example, [Upadhayay 2014’s](#Upadhayay-2014) study examined relationships between cognitive functions in medical students, comparing males to females. Additionally, they explored ideas that stages in the female menstrual cycle affected cognitive abilities in females. Post-experiment, they found comparable differences where males had advantages in attentional tasks (assessing visual reaction time), and disadvantages in executive tasks (assessing selective attention capacity) [(Upadhayay, 2014)](#Upadhayay-2014).\n",
    "\n"
   ]
  },
  {
   "cell_type": "markdown",
   "id": "99724d5a-ebfb-46d3-b8ed-351f01ce61ff",
   "metadata": {},
   "source": [
    "> ## Methodology"
   ]
  },
  {
   "cell_type": "markdown",
   "id": "bc7d3021-6b30-41fe-a6b8-22c3480181ce",
   "metadata": {},
   "source": [
    "In an effort to firsthand understand cognitive tests and abilities, we coded 4 cognitive ability tests in: spatial reasoning, memory, numerical reasoning and approximate number sense."
   ]
  },
  {
   "cell_type": "markdown",
   "id": "d42675c6-71b2-4675-b92a-2a3021cbab8b",
   "metadata": {},
   "source": [
    ">> ### Spatial reasoning"
   ]
  },
  {
   "cell_type": "markdown",
   "id": "90e5af67-890f-490f-b272-d9ee83858481",
   "metadata": {},
   "source": [
    "Spatial reasoning broadly refers to the ability to mentally represent and manipulate spatial information [(Shah & Miyake, 2005)](#Shah-&-Miyake-2005). Nonexhaustively, this entails skills of mental rotation, awareness and visual processing. \n",
    "\n",
    "To test this, candidates were presented with a large 3D image of a cube formation, and 4 possible conformations of the image. They then had to select the option impossible to match to the 3D image. Each question was timed, and a right/wrong answer recorded. This test required candidates to interpret the 3D images as 2D, and mentally manipulate them to test each option.\n",
    "\n",
    "This approach is similar to Shi et al.’s experiment of using principles of Object Assembly (OA). Shi et al. presented volunteers with constituents of a 2D image, and tasked them with picking the matching construction out of a list [(Embretson & Gorin, 2001)](#Embretson-&-Gorin-2001).\n",
    "\n",
    "Our spatial reasoning test differs by including a 3D element and requires that participants match a constituent to a product image. However, it still aligns with literature by testing participants’ strengths in [Embretson and Gorin 2001's](#Embretson-&-Gorin-2001) model of cognitive process theory. Participants still encode the question item, falsify incorrect answers, and confirm that their selection matches the question item [(Embretson & Gorin, 2001)](#Embretson-&-Gorin-2001)."
   ]
  },
  {
   "cell_type": "markdown",
   "id": "e6b4451f-7f66-4fc9-973b-f7d4440aa5fe",
   "metadata": {},
   "source": [
    "![Figure 1](figure1.jpg)\n",
    "<span>Figure 1. Illustration of Spatial Reasoning test question</span>\n"
   ]
  },
  {
   "cell_type": "markdown",
   "id": "679f71bf-531d-4168-9fe3-1a498d42c870",
   "metadata": {},
   "source": [
    ">> ### Memory test"
   ]
  },
  {
   "cell_type": "markdown",
   "id": "e8d4cc37-8ced-407d-bda2-22a8269a5dcd",
   "metadata": {},
   "source": [
    "This assessed candidates’ ability to recall shapes, patterns and formations under pressure, testing the “neurocognitive capacity to encode, store and retrieve information” [(Tulving & Craik, 2000)](#Tulving-&-Craik-2000). Many subsets and variations of working memory exist, and our test targets the intersection of memory and vision, as it involves memory processes and the nature of stored information [(Luck & Hollingworth, 2008)](#Luck-&-Hollingworth-2008).\n",
    "\n",
    "Within this test, candidates were presented with a grid for 20 seconds. In this time, they were expected to memorise as much of the grid as possible. The grid then disappears, and 5 were asked questions about the grid, with users recalling specific aspects of its shapes, colours and formation.\n",
    "\n",
    "We included 3 levels of difficulty to differentiate ability; accounting for theory stating that as the quantity of remembered items increases, the precision by which individual items are recalled diminishes [(Alvarez & Cavanagh, 2004)](#Alvarez-&-Cavanagh–2004). Such design supports our goals to elicit demographic patterns around memory ability. \n",
    "\n",
    "We constructed 3 grids, with 15 questions asked to users in total."
   ]
  },
  {
   "cell_type": "markdown",
   "id": "e003e988-998b-4fb5-90ed-7ce0b6ff8d8c",
   "metadata": {},
   "source": [
    "![Figure 2](figure2.jpg)\n",
    "<span>Figure 2: Illustration of memory test difficulties, including an example question asked to users.</span>"
   ]
  },
  {
   "cell_type": "markdown",
   "id": "076d1902-55d0-452b-9102-d066fa42c1b0",
   "metadata": {},
   "source": [
    ">> ### Maths ability test"
   ]
  },
  {
   "cell_type": "markdown",
   "id": "cd2b8a90-4198-4356-98a0-1ed0a421741b",
   "metadata": {},
   "source": [
    "The Maths ability test draws on principles of quantitative cognition, which refers to cognitive processes involved with magnitudes, amounts, and numbers [(Beran, 2017)](#Beran-2017). Specifically, this tests candidates’ ability to remember arithmetic operations quickly and calculate them.\n",
    "\n",
    "Candidates were shown in sequence an arithmetic equation. They then needed to remember this equation, mentally calculate this, and input their answer into the designated textbox. As the test proceeded, the questions slowly increased in difficulty and this means accuracy rates will decrease as question number increases, allowing us to differentiate ability. 17 questions were asked in total.\n"
   ]
  },
  {
   "cell_type": "markdown",
   "id": "278f36cb-34e4-4888-bc1a-2145a2b77cd3",
   "metadata": {},
   "source": [
    "![Figure 3](figure3.jpg)\n",
    "<span>Figure 3. Example of arithmetic equation shown to user, accompanied by textbox allocated for input.\n",
    "</span>"
   ]
  },
  {
   "cell_type": "markdown",
   "id": "f4363f29-d80d-41c5-a114-3d9ca5313270",
   "metadata": {},
   "source": [
    ">> ### ANS test"
   ]
  },
  {
   "cell_type": "markdown",
   "id": "3b690649-3967-4f9c-b131-3610f01bb4c1",
   "metadata": {},
   "source": [
    "Lastly, the approximate number sense (ANS) test measures candidates’ “primitive numerical competence” [(Park & Starns, 2015)](#Park-&-Starns-2015). \n",
    "\n",
    "This test occurs rapidly; candidates were presented with a series of images with a different number of blue dots (left) and yellow dots (right). In 3 seconds, they had to determine whether the left or right had more dots. This required candidates to make quick judgements of quantity. Candidates with high accuracy needed to choose with great precision, alluding to higher numerical and mathematical ability [(Park & Starns, 2015)](#Park-&-Starns-2015). \n",
    "\n",
    "Comparably, the ANS test is harder to prepare for as it measures an innate ability to estimate and compare numerical quantities without relying on formal language or mathematical skills [(Kwon & Kim, 2023)](#Kwon-&-Kim-2023). This means it taps into a more fundamental element of cognitive processing adjusted for various cultures and educational backgrounds [(Feigenson et al., 2004)](#Feigenson-et-al.-2004). "
   ]
  },
  {
   "cell_type": "markdown",
   "id": "56a0bce1-fb84-4716-909c-a84c021f0b84",
   "metadata": {},
   "source": [
    "![Figure 4](figure4.jpg)\n",
    "<span>Figure 4. Show of ANS test question example, along with mechanism for inputting answer.\n",
    "</span>"
   ]
  },
  {
   "cell_type": "markdown",
   "id": "3ad1b883-8c11-4dea-8a56-933edbb8dc0f",
   "metadata": {},
   "source": [
    "> ## Hypotheses"
   ]
  },
  {
   "cell_type": "markdown",
   "id": "8f2aad65-06bf-468c-96f1-00a4aa742350",
   "metadata": {},
   "source": [
    "To guide our investigation, our analyses are centred around the following hypotheses:\n",
    "\n",
    ">> **H<sub>1</sub>**: There is a significant positive correlation between the scores achieved in the autonomic nervous skills test, and the maths, spatial reasoning, and memory skills test.\n",
    ">>\n",
    ">> **H<sub>2</sub>**: Males score significantly higher than females in all cognitive tests. \n",
    ">>\n",
    ">> **H<sub>0</sub>** for **H<sub>1</sub>**: There is no significant correlation between the scores achieved in the autonomic nervous skills test and the scores in the maths, spatial reasoning, and memory skills tests.\n",
    ">>\n",
    ">> **H<sub>0</sub>** for **H<sub>2</sub>**: There is no significant difference in scores between males and females in the spatial reasoning test."
   ]
  },
  {
   "cell_type": "markdown",
   "id": "8a72d357-acb5-43fd-9f73-b72675a2223b",
   "metadata": {},
   "source": [
    "> ## Results"
   ]
  },
  {
   "cell_type": "markdown",
   "id": "6b1e7b72-3c4c-46f6-9f9f-8c4790b26849",
   "metadata": {},
   "source": [
    "<details>\n",
    "<summary>This is the set-up code for out data analysis. Click to expand.</summary>\n",
    "\n",
    "```python\n",
    "from IPython.display import Image, display\n",
    "import numpy as np\n",
    "import pandas as pd\n",
    "import matplotlib.pyplot as plt\n",
    "\n",
    "spatial_sheet = \"1630UlDrf93-svWmw25lxNPtcUilaEOZDu0FxdDm1Xgk\"\n",
    "ans_sheet = \"1s4RzdGzKZZVk9cRWwonmyb2iCF6ssd-w42vn0dGlyFo\"\n",
    "maths_sheet = \"1n1xNxaowMPoybbubz0kXA7uq18OhQLnefFDJV6nUVsY\"\n",
    "memory_sheet = \"1Hbdzt55yGEMuT1kz9YHnyCw1FvMqlaXTTuDGK1Xpjrs\"\n",
    "\n",
    "def get_url(sheet):\n",
    "    converted_url = f'https://docs.google.com/spreadsheets/d/{sheet}/export?format=csv'\n",
    "    return converted_url\n",
    "\n",
    "ans_df = pd.read_csv(get_url(ans_sheet), index_col=\"user id\")\n",
    "maths_df = pd.read_csv(get_url(maths_sheet), index_col=\"user_id\")\n",
    "spatial_df = pd.read_csv(get_url(spatial_sheet), index_col=\"user_id\")\n",
    "memory_df = pd.read_csv(get_url(memory_sheet), index_col=\"name\")\n",
    "\n",
    "def prep_df(frame):\n",
    "    new_frame = frame.dropna(subset=\"Timestamp\").iloc[:, 1:]\n",
    "    return new_frame\n",
    "    \n",
    "ans_df2 = prep_df(ans_df)\n",
    "maths_df2 = prep_df(maths_df)\n",
    "spatial_df2 = prep_df(spatial_df)\n",
    "memory_df2 = prep_df(memory_df)\n",
    "\n",
    "score_counter = 0\n",
    "spatial_scores = []\n",
    "for i in spatial_df2[\"result_recording\"]:\n",
    "    for j in i.replace(\",\", \"\").split():\n",
    "        if j == \"correct\":\n",
    "            score_counter += 1\n",
    "    spatial_scores.append(score_counter)\n",
    "    score_counter = 0\n",
    "\n",
    "spatial_df2[\"score\"] = spatial_scores\n",
    "ans_df2[\"percent\"] = (ans_df2[\"score\"] / 64) * 100\n",
    "spatial_df2[\"percent\"] = (spatial_df2[\"score\"] / 5) * 100\n",
    "\n",
    "ans_df_gender = ans_df2.dropna().groupby(\"gender\")[\"percent\"].agg([np.mean, np.std])\n",
    "maths_df_gender = maths_df2[~maths_df2[\"score_as_percent\"].isin([100, 0])].groupby(\"gender\")[\"score_as_percent\"].agg([np.mean, np.std])\n",
    "spatial_df_gender = spatial_df2.replace([\"male\", \"MALE\", \"female\", \"FEMALE\"], [\"Male\", \"Male\", \"Female\", \"Female\"]).groupby(\"gender\")[\"percent\"].agg([np.mean, np.std])\n",
    "memory_df_gender = memory_df2.dropna().groupby(\"gender\")[\"percent\"].agg([np.mean, np.std])\n",
    "\n",
    "user_dict = {\"userID\": list(ans_df2.index) + list(maths_df2.index) + list(spatial_df2.index) + list(memory_df2.index),\n",
    "            \"ans\":\"\",\n",
    "            \"maths\":\"\",\n",
    "            \"spatial\":\"\",\n",
    "            \"memory\":\"\",\n",
    "           }\n",
    "\n",
    "def make_dict(len1=ans_df2.shape[0], len2=maths_df2.shape[0], len3=spatial_df2.shape[0], lenignore=0, score_list=[]):\n",
    "    func_list=[]\n",
    "    for i in range(len1+len2+len3):\n",
    "        func_list.append(0)\n",
    "\n",
    "    for j in score_list:   \n",
    "        func_list.append(j)\n",
    "\n",
    "    for k in range(maths_df2.shape[0]+spatial_df2.shape[0]+memory_df2.shape[0]-len2-len3-lenignore):\n",
    "        func_list.append(0)\n",
    "        \n",
    "    return func_list\n",
    "\n",
    "user_dict[\"ans\"] = make_dict(len1=0, len2=0, len3=0, lenignore=0, score_list=list(ans_df2[\"percent\"]))\n",
    "user_dict[\"maths\"] = make_dict(len2=0, len3=0, lenignore=maths_df2.shape[0], score_list=list(maths_df2[\"score_as_percent\"]))\n",
    "user_dict[\"spatial\"] = make_dict(len3=0, lenignore=spatial_df2.shape[0], score_list=list(spatial_df2[\"percent\"]))\n",
    "user_dict[\"memory\"] = make_dict(lenignore=memory_df2.shape[0], score_list=list(memory_df2[\"percent\"]))\n",
    "\n",
    "compscores_df = pd.DataFrame(user_dict)\n",
    "upperlist=[]\n",
    "for i in compscores_df[\"userID\"]:\n",
    "    upperlist.append(i.upper())\n",
    "\n",
    "compscores_df[\"userID\"] = upperlist\n",
    "compscores_df2 = compscores_df.groupby(\"userID\")[[\"ans\", \"maths\", \"spatial\", \"memory\"]].sum().round(2)\n",
    "compscores_df3 = compscores_df2[compscores_df2[[\"ans\", \"maths\", \"spatial\", \"memory\"]] <=100].dropna()\n",
    "compscores_df4 = compscores_df3[compscores_df3[\"ans\"] != 0]\n",
    "\n",
    "from scipy import stats\n",
    "\n",
    "def do_t_test(data1, data2, df):\n",
    "    t_stat, p_value = stats.ttest_ind(data1, data2)\n",
    "    df[\"t stat\"] = abs(t_stat)\n",
    "    df[\"p value\"] = p_value\n",
    "    df[\"difference\"] = abs(df[\"mean\"][0] - df[\"mean\"][1])\n",
    "    df[\"degrees of freedom\"] = [len(data2), len(data1)]\n",
    "\n",
    "ans_df_males = ans_df2[ans_df2[\"gender\"] == \"Male\"]\n",
    "ans_df_females = ans_df2[ans_df2[\"gender\"] == \"Female\"]\n",
    "maths_df_males = maths_df2[maths_df2[\"gender\"] == \"Male\"].dropna(subset=\"score_as_percent\")\n",
    "maths_df_females = maths_df2[maths_df2[\"gender\"] == \"Female\"]\n",
    "spatial_df_males = spatial_df2[spatial_df2[\"gender\"].isin([\"Male\", \"MALE\", \"male\"])]\n",
    "spatial_df_females = spatial_df2[spatial_df2[\"gender\"].isin([\"Female\", \"FEMALE\", \"female\"])]\n",
    "memory_df_males = memory_df2[memory_df2[\"gender\"] == \"Male\"]\n",
    "memory_df_females = memory_df2[memory_df2[\"gender\"] == \"Female\"]\n",
    "\n",
    "do_t_test(ans_df_males[\"percent\"], ans_df_females[\"percent\"], ans_df_gender)\n",
    "do_t_test(maths_df_males[\"score_as_percent\"], maths_df_females[\"score_as_percent\"], maths_df_gender)\n",
    "do_t_test(spatial_df_males[\"percent\"], spatial_df_females[\"percent\"], spatial_df_gender)\n",
    "do_t_test(memory_df_males[\"percent\"], memory_df_females[\"percent\"], memory_df_gender)\n",
    "\n",
    "for i in [ans_df_gender, maths_df_gender, spatial_df_gender, memory_df_gender]:\n",
    "    i[\"err\"] = i[\"t stat\"] * i[\"std\"] / np.sqrt(i[\"degrees of freedom\"])"
   ]
  },
  {
   "cell_type": "markdown",
   "id": "28b858ad-1460-4a0c-be92-b875e8722305",
   "metadata": {},
   "source": [
    ">> ### Hypothesis A"
   ]
  },
  {
   "cell_type": "markdown",
   "id": "61b410eb-bc53-4c23-a040-3b70075cd1a6",
   "metadata": {
    "jp-MarkdownHeadingCollapsed": true
   },
   "source": [
    "#### Histogram Plots"
   ]
  },
  {
   "cell_type": "markdown",
   "id": "b98e9cb0-7dc5-4995-bcee-655e80141025",
   "metadata": {},
   "source": [
    "<details>\n",
    "<summary>Set-up code. Click to expand.</summary>\n",
    "\n",
    "```python\n",
    "def plot_hist(a1, a2, data, color, title):\n",
    "    ax[a1, a2].hist(data, color=color, bins=6)\n",
    "    ax[a1, a2].set_xlabel(\"Percent\")\n",
    "    ax[a1, a2].set_title(title)\n",
    "    ax[a1, a2].set_ylabel(\"Proportion\")\n",
    "\n",
    "    mean_val = data.mean()\n",
    "    median_val = data.median()\n",
    "\n",
    "    ax[a1, a2].axvline(mean_val, color='black', linestyle='-', linewidth=1)\n",
    "    ax[a1, a2].axvline(median_val, color='grey', linestyle='-', linewidth=1)\n",
    "\n",
    "    font_size = 8\n",
    "    font_weight = 'bold'\n",
    "\n",
    "    ax[a1, a2].text(0.05, 0.95, f'Mean: {mean_val:.2f}', fontsize=font_size, fontweight=font_weight, transform=ax[a1, a2].transAxes, color='black', ha='left')\n",
    "    ax[a1, a2].text(0.05, 0.90, f'Median: {median_val:.2f}', fontsize=font_size, fontweight=font_weight, transform=ax[a1, a2].transAxes, color='grey', ha='left')\n",
    "\n",
    "fig, ax = plt.subplots(2, 2, figsize=(8, 6))\n",
    "plt.subplots_adjust(wspace=0.5, hspace=0.5)\n",
    "\n",
    "plot_hist(0, 0, ans_df2[\"percent\"], \"r\", \"ANS Test\")\n",
    "plot_hist(0, 1, maths_df2[\"score_as_percent\"], \"b\", \"Arithmetic Test\")\n",
    "plot_hist(1, 0, spatial_df2[\"percent\"], \"g\", \"Spatial Reasoning Test\")\n",
    "plot_hist(1, 1, memory_df2[\"percent\"], \"y\", \"Memory Test\")\n",
    "plt.savefig(\"histogram.png\")\n",
    "plt.show()"
   ]
  },
  {
   "cell_type": "markdown",
   "id": "09681924-837c-490e-8bde-1919e9d30bda",
   "metadata": {},
   "source": [
    "![Histograms](histogram.png)\n",
    "\n",
    "<span>Figure 5. Histogram Plots for score for each test.</span>"
   ]
  },
  {
   "cell_type": "markdown",
   "id": "b2d76b3d-0c63-4344-9084-912e9b6f8d7f",
   "metadata": {
    "jp-MarkdownHeadingCollapsed": true
   },
   "source": [
    "#### Scatter Plots"
   ]
  },
  {
   "cell_type": "markdown",
   "id": "85649416-1f8f-405d-810d-c5d9233ba86a",
   "metadata": {},
   "source": [
    "<details>\n",
    "<summary>Set-up code. Click to expand.</summary>\n",
    "\n",
    "```python\n",
    "def plot_scatter(a1, test, color, title):\n",
    "    ax[a1].scatter(compscores_df4[compscores_df4[test] != 0][\"ans\"], compscores_df4[compscores_df4[test] != 0][test], color=color)\n",
    "    ax[a1].set_xlabel(\"Percentage score\")\n",
    "    ax[a1].set_title(title)\n",
    "    ax[a1].set_ylabel(\"Percentage score\")\n",
    "\n",
    "fig, ax = plt.subplots(3, 1, figsize=(8, 15))\n",
    "\n",
    "plot_scatter(0, \"maths\", \"b\", \"ANS test vs Arithmetic Test\")\n",
    "plot_scatter(1, \"spatial\", \"g\", \"ANS test vs Spatial Reasoning Test\")\n",
    "plot_scatter(2, \"memory\", \"y\", \"ANS test vs Memory Test\")\n",
    "\n",
    "plt.savefig(\"scatter.png\")\n",
    "plt.show()"
   ]
  },
  {
   "cell_type": "markdown",
   "id": "efe9840e-6d1d-4a11-bfd6-8c707ca701c1",
   "metadata": {},
   "source": [
    "![Scatter Plots](scatter.png)\n",
    "\n",
    "<span>Figure 6. Scatter Plots for ANS percentage score against the other three test scores.</span>"
   ]
  },
  {
   "cell_type": "markdown",
   "id": "1cd80603-c794-45ad-9f06-a26ddcaa06f4",
   "metadata": {
    "jp-MarkdownHeadingCollapsed": true
   },
   "source": [
    "#### Table 1"
   ]
  },
  {
   "cell_type": "markdown",
   "id": "c06ebf19-26b0-4bce-90f7-c0aa338561d1",
   "metadata": {},
   "source": [
    "**Table 1 displaying the results for Spearman Rank tests**\n",
    " \n",
    " | Tests           |ANS vs Maths| ANS vs Spatial| ANS vs Memory |\n",
    " |-----------------|------------|---------------|---------------|\n",
    " | Spearman's rank |-0.242      | -0.477        | NaN           |\n",
    " | p value         |0.349       | 0.279         | NaN           |"
   ]
  },
  {
   "cell_type": "markdown",
   "id": "0106a4d9-c7eb-408c-8666-53fddc7a19c8",
   "metadata": {
    "jp-MarkdownHeadingCollapsed": true
   },
   "source": [
    "#### Correlation matrix"
   ]
  },
  {
   "cell_type": "markdown",
   "id": "4ef0a405-3268-47c4-aade-a62aca458f00",
   "metadata": {},
   "source": [
    "<details>\n",
    "<summary>Set-up code. Click to expand.</summary>\n",
    "\n",
    "```python\n",
    "\n",
    "import pandas as pd\n",
    "import seaborn as sns\n",
    "import matplotlib.pyplot as plt\n",
    "def get_url(sheet):\n",
    "    converted_url = f'https://docs.google.com/spreadsheets/d/{sheet}/export?format=csv'\n",
    "    return converted_url\n",
    "\n",
    "\n",
    "ans_sheet = \"1s4RzdGzKZZVk9cRWwonmyb2iCF6ssd-w42vn0dGlyFo\"\n",
    "\n",
    "ans_df = pd.read_csv(get_url(ans_sheet), index_col=\"user id\")\n",
    "\n",
    "def prep_df(frame):\n",
    "    new_frame = frame.dropna(subset=\"Timestamp\").iloc[:, 1:]\n",
    "    return new_frame\n",
    "\n",
    "ans_df2 = prep_df(ans_df)\n",
    "\n",
    "score_counter = 0\n",
    "\n",
    "\n",
    "ans_df2[\"percent\"] = (ans_df2[\"score\"] / 64) * 100\n",
    "\n",
    "ans_df2['gender'] = ans_df2['gender'].replace({'Male': 0, 'Female': 1})\n",
    "selected_columns = ans_df2[['age', 'gender', 'percent']]\n",
    "\n",
    "# Compute the correlation matrix for the selected columns\n",
    "correlation_matrix = selected_columns.corr()\n",
    "\n",
    "# Create a heatmap of the correlation matrix\n",
    "sns.heatmap(correlation_matrix, annot=True, fmt=\".2f\", cmap='coolwarm')\n",
    "\n",
    "# Add a title\n",
    "plt.title('Correlation Matrix for ANS Test')\n",
    "\n",
    "plt.savefig('matrix.png')\n",
    "\n",
    "# Show the plot\n",
    "plt.show()"
   ]
  },
  {
   "cell_type": "markdown",
   "id": "2d4950a2-2752-4fee-a8c5-6b44629d3b29",
   "metadata": {},
   "source": [
    "![Correlation Matrix](matrix.png)\n",
    "\n",
    "<span>Figure 7. Correlation matrix for age, gender and score for the ANS test.</span>"
   ]
  },
  {
   "cell_type": "markdown",
   "id": "ad927a30-71dc-49c2-96de-104d096452b6",
   "metadata": {},
   "source": [
    ">> ### Hypothesis B - Contrasting the performance of males vs females"
   ]
  },
  {
   "cell_type": "markdown",
   "id": "53f9ba9a-8897-48f1-988d-8e3a918c3c12",
   "metadata": {
    "jp-MarkdownHeadingCollapsed": true
   },
   "source": [
    "#### Box Plots"
   ]
  },
  {
   "cell_type": "markdown",
   "id": "38af1140-e101-4326-996a-6240176eec9b",
   "metadata": {},
   "source": [
    "<details>\n",
    "<summary>Set-up code. Click to expand.</summary>\n",
    "\n",
    "```python\n",
    "fig, ax = plt.subplots(2,2, figsize=(8, 6))\n",
    "plt.subplots_adjust(wspace=0.5, \n",
    "                    hspace=0.5) \n",
    "\n",
    "def plot_box(a1, a2, males, females, color, title):\n",
    "    ax[a1, a2].boxplot([males, females])\n",
    "    ax[a1, a2].set_xticklabels([\"Males\", \"Females\"])\n",
    "    ax[a1, a2].set_title(title)\n",
    "    ax[a1, a2].set_ylabel(\"Percentage score\")\n",
    "    ax[a1, a2].set_ylim(0, 100)\n",
    "\n",
    "plot_box(0, 0, ans_df_males[\"percent\"], ans_df_females[\"percent\"], \"r\", \"ANS Test\")\n",
    "plot_box(0, 1, maths_df_males[\"score_as_percent\"], maths_df_females[\"score_as_percent\"], \"b\", \"Arithmetic Test\")\n",
    "plot_box(1, 0, spatial_df_males[\"percent\"], spatial_df_females[\"percent\"],\"g\", \"Spatial Reasoning Test\")\n",
    "plot_box(1, 1, memory_df_males[\"percent\"], memory_df_females[\"percent\"], \"y\", \"Memory Test\")\n",
    "plt.savefig(\"box_plot.png\")\n",
    "plt.show()"
   ]
  },
  {
   "cell_type": "markdown",
   "id": "f15e78de-fbb6-4502-ab26-29db9b06bc0f",
   "metadata": {},
   "source": [
    "![BoxPlots](box_plot.png)\n",
    "\n",
    "<span>Figure 8. Box plots showing the differences in percentage scores for males and females on each test.</span>"
   ]
  },
  {
   "cell_type": "markdown",
   "id": "0d65446d-b8d1-497a-b986-f80ea9ccbbe1",
   "metadata": {
    "jp-MarkdownHeadingCollapsed": true
   },
   "source": [
    "#### Table 2"
   ]
  },
  {
   "cell_type": "markdown",
   "id": "b19e8980-e810-4962-900f-09187dde925a",
   "metadata": {},
   "source": [
    "**Table 2 displaying information about the performance of males and females**\n",
    "\n",
    "Gender         |  Mean  |  Std  | T-stat | P value| Difference\n",
    "---------------|--------|-------|--------|--------|--------------------       \n",
    "Ans Female     | 90.6   | 3.64  | 1.37   | 0.192  | 5.08   \n",
    "Ans Male       | 85.5   | 7.22  | 1.37   | 0.192  | 5.08   \n",
    "Maths Female   | 65.8   | 22.0  | 2.77   | 0.0121 | 19.2   \n",
    "Maths Male     | 85.0   | 6.64  | 2.77   | 0.0121 | 19.2\n",
    "Spatial Female | 67.5   | 14.9  | 0.615  | 0.546  | 5.68   \n",
    "Spatial Male   | 61.8   | 22.7  | 0.615  | 0.546  | 5.68  \n",
    "Memory Female  | 51.3   | 16.6  | 1.69   | 0.0100 | 11.1   \n",
    "Memory Male    | 40.3   | 17.9  | 1.69   | 0.0100 | 11.1   "
   ]
  },
  {
   "cell_type": "markdown",
   "id": "839eef7e-5d09-4574-8c6b-6b3f054333b2",
   "metadata": {
    "jp-MarkdownHeadingCollapsed": true
   },
   "source": [
    "#### Dot Plots"
   ]
  },
  {
   "cell_type": "markdown",
   "id": "f05c4416-40a5-45a5-ac56-9f0f456623e7",
   "metadata": {},
   "source": [
    "<details>\n",
    "<summary>Set-up code. Click to expand.</summary>\n",
    "\n",
    "```python\n",
    "def create_dot_plot(df, title, ax):\n",
    "\n",
    "    genders = df.index\n",
    "    means = df['mean'].values\n",
    "    stds = df['err'].values\n",
    "    \n",
    "    x_positions = np.arange(len(genders))\n",
    "    \n",
    "    ax.errorbar(x_positions, means, yerr=stds, fmt='o', color='black', ecolor='lightgray', elinewidth=3, capsize=0)\n",
    "    \n",
    "    for i, mean in enumerate(means):\n",
    "        ax.text(x_positions[i], mean, f'{mean:.2f}', ha='center', va='bottom')\n",
    "    \n",
    "    ax.set_title(title)\n",
    "    ax.set_xticks(x_positions)\n",
    "    ax.set_xticklabels(genders)\n",
    "    ax.set_ylabel('Mean Percentage Score')\n",
    "    ax.set_ylim(0, 100)\n",
    "\n",
    "fig, axs = plt.subplots(2, 2, figsize=(8, 6))\n",
    "\n",
    "create_dot_plot(ans_df_gender, \"ANS Test\", axs[0, 0])\n",
    "create_dot_plot(maths_df_gender, \"Arithmetic Test\", axs[0, 1])\n",
    "create_dot_plot(spatial_df_gender, \"Spatial Reasoning Test\", axs[1, 0])\n",
    "create_dot_plot(memory_df_gender, \"Memory Test\", axs[1, 1])\n",
    "\n",
    "\n",
    "plt.savefig(\"dot_plots.png\")\n",
    "plt.tight_layout()\n",
    "plt.show()"
   ]
  },
  {
   "cell_type": "markdown",
   "id": "ea7b68d4-1359-4867-9272-ce03d905c2ee",
   "metadata": {},
   "source": [
    "![Dot Plots](dot_plots.png)\n",
    "\n",
    "<span>Figure 9. Dot plots showing the mean percentage score for males and females on each test. Error bars were calculated using the formula below.</span>"
   ]
  },
  {
   "cell_type": "markdown",
   "id": "d1ceb793-cb5f-41c9-89a6-be37afdd824d",
   "metadata": {},
   "source": [
    "$t * S/\\sqrt{N}$"
   ]
  },
  {
   "cell_type": "markdown",
   "id": "cb483824-8258-4bfe-a1f0-819407901ce5",
   "metadata": {},
   "source": [
    "# Discussion and conclusion"
   ]
  },
  {
   "cell_type": "markdown",
   "id": "040f76a4-15ac-42c5-b42b-aadfaae9da82",
   "metadata": {},
   "source": [
    "> ## Discussion"
   ]
  },
  {
   "cell_type": "markdown",
   "id": "64eb4347-2b7b-4fde-807d-18ed7efa20be",
   "metadata": {},
   "source": [
    "Our study retains focus on exploring the gender differences in cognitive abilities across the above tests. This entails looking at correlations between the test results to derive possible relationships. A critical part of the methodology was the integration of user feedback to refine our tests, thereby enhancing the accuracy of our data analysis. In response to inputs from all tests, we incorporated a comparative performance feature which allowed users to compare their results to others upon completion of the test. This not only gave the users more context into how well they did but also led to a higher level of engagement amongst users. Moreover, we ensured that the tests were easier to understand but also more sophisticated in their styling to, once again, improve user engagement, minimise confusion and generate better results. Specifically for the ANS test, we addressed the problem regarding the user's perception of test length by adding question numbers, providing clearer structure to the test and enabled users to observe their progress. Similar changes were crucial in ensuring that the tests not only measured the intended abilities of the users effectively but also provided a good experience.\n",
    "\n",
    ">> **Hypothesis 1**\n",
    "\n",
    "The first hypothesis aimed to uncover potential correlations between the ANS test and other cognitive tests. We firstly constructed histograms, which allowed us to visualise score frequency distribution across the tests (Figure 5). As observed in Figure 5, visual analysis of the histograms fail to show any correlations. Specifically, the ANS and math test has mean scores of 89 and 76 respectively and with these scores being the closest out of all tests, there is a clear lack of correlation across test results. Similarly, the scatter plots (Figure 6) showed no clear correlation between tests.\n",
    "\n",
    "Patterns are observed within the ANS and maths tests, where the majority of participants scored highly on both, suggesting a possible alignment with the histogram averages. This aligns with existing literature linking ANS tests to mathematical ability [(Park & Starns, 2015)](#Pang-2023). However, there is insufficient data to give us a robust basis for the definitive conclusion. This supports H0 regarding correlations between ANS and other tests, but still demands extended investigation.\n",
    "\n",
    "Additionally, a Spearman rank test was conducted to comprehensively explore potential correlations. The analysis between the ANS and maths test generated a correlation coefficient of -0.24 which was closer to 0 than the p-value, 0.35, indicating an absence of correlation. Conversely, the spatial versus ANS test value was -0.48. This is further from 0 than the p-value, 0.28 – a notable difference in the test outcomes. Such coincides with the lack of similarity observed earlier. To evaluate, the attempt to analyse the relationship between ANS and memory tests was hindered by an insufficient number of data points which underscores the need for more data collection in future studies. This exploration of similarities between the cognitive tests demonstrates the complexity of the tests and therefore the challenges in drawing clear connections with the available data.\n",
    "\n",
    ">> **Hypothesis 2**\n",
    "\n",
    "Moving onto our second hypothesis, there was expectation that gender differences would show in the test results. Given existing studies, we anticipated that males would perform better than females in spatial and mathematical tests [(Zaidi, 2010)](#Zaidi-2010), with females outperforming men in ANS and memory tests [(Rochette et al., 2017)](#Rochette-et-al.-2017). Initial data from graphs (Figure 8) revealed that males indeed scored higher in the maths test, while females scored higher in ANS and memory. These aligned with our predictions. \n",
    "\n",
    "However, females surpassed males by 5.7% in the spatial test, challenging the original hypothesis. This was further explored within the box plots; despite a subset of the males scoring between 80-100%, females consistently showed a higher mean score in spatial tests. Additionally, males had a larger range of scores across all tests, except for the maths test. Such indicates that females were more consistent in their performance across all tests. Our dot plots (Figure 9) visualised these trends and included error bars, derived from the t-tests and standard deviation calculations. Error analysis revealed that males had smaller margins of error in the memory and arithmetic tests, suggesting tighter clustering of scores. In contrast, females showed smaller errors in the ANS and spatial tests which indicated more consistent performance within these areas. These findings suggest that gender differences in cognitive abilities are not as clear-cut as hypothesised. Cognitive performance is likely influenced by a complex array of factors and gender may not be as big of a determinant as the original hypothesis suggested.\n",
    "\n",
    ">> **Further analysis**\n",
    "\n",
    "Finally, Spearman rank tests were performed on all 4 of the cognitive assessments to determine possible correlations between age and gender. The maths test was the only test that demonstrated a correlation. To further investigate the connection between maths and ANS tests, a correlation matrix was plotted specifically for the ANS test which generated values of 0.29, 0.33, -0.06 (Figure 7). This indicated very little if any, correlation between gender, age and percent on the tests. Such additional analysis, coupled with the lack of significant correlation between ANS and the other cognitive tests, calls for a reevaluation of the presumed relationships between these different cognitive domains and available results. \n",
    "\n",
    "Furthermore, our findings challenge the original assumptions about gender differences in cognitive abilities, particularly in spatial awareness where females outperformed males, contrasting our hypothesis. In comparison to existing literature, men have been found to perform better in spatial tests [(Zaidi, 2010)](#Zaidi-2010), with women exhibiting more conclusive success than men in memory tests [(Rochette et al., 2017)](#Rochette-et-al.-2017). Overall, our results did not align with initial expectation, prompting us to reject both H1 and H2 and accept the H0 for both hypotheses.\n",
    "\n",
    ">> **Improvements and extensions**\n",
    "\n",
    "To extend our investigation, additional factors should be examined for their impact on cognitive ability. For instance, existing literature mentions educational background, socioeconomic status, and exposure to specific types of cognitive training as possible influences [(Cukor et al., 2021)](#Cukor-Kimmel-&-Cohen-2021). Additionally, a larger dataset is also to be desired particularly for the ANS and memory tests. This would enable a more reliable analysis of results, and provides opportunity to explore more advanced tools such as machine learning, particularly the random forest method, to make feasible, data-based predictions.\n"
   ]
  },
  {
   "cell_type": "markdown",
   "id": "9a45456c",
   "metadata": {},
   "source": [
    "> ## Conclusion"
   ]
  },
  {
   "cell_type": "markdown",
   "id": "0cf5c142-a20e-4ddc-93f6-1db51f93674f",
   "metadata": {},
   "source": [
    "Our study has highlighted the complexity of cognitive tests and the need for a substantial understanding of the various factors that influence performance across different cognitive domains. The observed gender differences in performance, particularly the unexpected findings in spatial awareness underscore the importance of challenging original assumptions to understand all the factors that influence cognitive tests. Finally, longitudinal studies that track cognitive performance over time could be explored as tools to reveal potential developmental and environmental impacts on gender differences."
   ]
  },
  {
   "cell_type": "markdown",
   "id": "3a054821-bbd1-4b7e-b7e6-7322154f42ff",
   "metadata": {},
   "source": [
    "> ## Bibliography"
   ]
  },
  {
   "cell_type": "markdown",
   "id": "887254f1-b7fd-4cbf-9689-dd38839c2f24",
   "metadata": {},
   "source": [
    "<a name=\"Alvarez-&-Cavanagh–2004\"></a> **Alvarez, G.A. and Cavanagh, P. (2004)** *‘The capacity of visual short-term memory is set both by visual information load and by number of objects’,* Psychological Science, 15(2), pp. 106–111. doi:10.1111/j.0963-7214.2004.01502006.x.\n",
    "\n",
    "<a name=\"Beran-2017\"></a> **Beran, M.J. (2017)** *‘Quantitative cognition.’, APA handbook of comparative psychology: Perception, learning, and cognition.*, pp. 553–577. doi:10.1037/0000012-025\n",
    "\n",
    "<a name=\"Cukor-Kimmel-&-Cohen-2021\"></a> **Cukor, D., Kimmel, P.L. and Cohen, S.D. (2021)** *Psychosocial aspects of chronic kidney disease* [Preprint]. doi:10.1016/c2017-0-04815-2.\n",
    "\n",
    "<a name=\"Embretson-&-Gorin-2001\"></a> **Embretson, S. and Gorin, J. (2001)** *‘Improving construct validity with cognitive psychology principles’, Journal of Educational Measurement*, 38(4), pp. 343–368. doi:10.1111/j.1745-3984.2001.tb01131.x.\n",
    "\n",
    "<a name=\"Feigenson-et-al.-2004\"></a> **Feigenson, L., Dehaene, S. and Spelke, E. (2004)** *‘Core Systems of number’, Trends in Cognitive Sciences*, 8(7), pp. 307–314. doi:10.1016/j.tics.2004.05.002.\n",
    "\n",
    "<a name=\"Freedman-&-Manly-2015\"></a> **Freedman, D. and Manly, J. (2015)** *Use of Normative Data and Measures of Performance Validity and Symptom Validity in Assessment of Cognitive Function* [Preprint]. doi:https://nap.nationalacademies.org/resource/21704/FreedmanManlyCommissioned-paper.pdf.\n",
    "\n",
    "<a name=\"Kwon-&-Kim-2023\"></a> **Kwon, N. and Kim, S.-Y. (2023)** *‘Effects of intelligence and approximate number system on the non-symbolic division ability in preschoolers’*, Frontiers in Psychology, 14. doi:10.3389/fpsyg.2023.961140.\n",
    "\n",
    "<a name=\"Luck-&-Hollingworth-2008\"></a> **Luck, S.J. and Hollingworth, A. (2008)** *Visual Memory.* Google Books.\n",
    "\n",
    "<a name=\"Pang-2023\"></a> **Pang, D. (2023)** *‘The Staggering Complexity of the Human Brain’,* Psychology Today, 2 September.\n",
    "\n",
    "<a name=\"Park-&-Starns-2015\"></a> **Park, J. and Starns, J.J. (2015)** *‘The approximate number system acuity redefined: A diffusion model approach’*, Frontiers in Psychology, 6. doi:10.3389/fpsyg.2015.01955.\n",
    "\n",
    "<a name=\"Rochette-et-al.-2017\"></a> **Rochette, A.D. et al. (2017)** *‘Gender differences in cognitive test performance in adults with heart failure’*, Journal of Cardiovascular Nursing, 32(3), pp. 212–217. doi:10.1097/jcn.0000000000000330.\n",
    "\n",
    "<a name=\"Shah-&-Miyake-2005\"></a> **Shah, P. and Miyake, A. (2005)** *The Cambridge Handbook of Visuospatial Thinking [Preprint].* doi:10.1017/cbo9780511610448.\n",
    "\n",
    "<a name=\"Tulving-&-Craik-2000\"></a> **Tulving , E. and Craik, F. (2000)** *The Oxford Handbook of Memory* [Preprint].\n",
    "\n",
    "<a name=\"Upadhayay-2014\"></a> **Upadhayay, N. (2014)** *‘Comparison of cognitive functions between male and female medical students: A pilot study’*, JOURNAL OF CLINICAL AND DIAGNOSTIC RESEARCH [Preprint]. doi:10.7860/jcdr/2014/7490.4449.\n",
    "\n",
    "<a name=\"Zaidi-2010\"></a> **Zaidi, Z.F. (2010)** *‘Gender differences in human brain: A Review’*, The Open Anatomy Journal, 2, pp. 37–55. doi:10.2174/1877609401002010037. "
   ]
  }
 ],
 "metadata": {
  "kernelspec": {
   "display_name": "Python 3 (ipykernel)",
   "language": "python",
   "name": "python3"
  },
  "language_info": {
   "codemirror_mode": {
    "name": "ipython",
    "version": 3
   },
   "file_extension": ".py",
   "mimetype": "text/x-python",
   "name": "python",
   "nbconvert_exporter": "python",
   "pygments_lexer": "ipython3",
   "version": "3.11.0"
  }
 },
 "nbformat": 4,
 "nbformat_minor": 5
}
