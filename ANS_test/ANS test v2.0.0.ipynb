{
 "cells": [
  {
   "cell_type": "markdown",
   "id": "383a8479-cb01-4bf3-a853-1461536b3a6d",
   "metadata": {},
   "source": [
    "## Welcome to the ANS Test! Please press Kernel, restart Kernel and then run the cell below to start."
   ]
  },
  {
   "cell_type": "code",
   "execution_count": 1,
   "id": "a10a73f6-479f-4d00-879c-19560c8400f1",
   "metadata": {},
   "outputs": [
    {
     "data": {
      "text/html": [
       "<span style='color: yellow; font-size: 40px;'>FINISH!</span>"
      ],
      "text/plain": [
       "<IPython.core.display.HTML object>"
      ]
     },
     "metadata": {},
     "output_type": "display_data"
    },
    {
     "name": "stdout",
     "output_type": "stream",
     "text": [
      "Congrats! You scored 84%!\n",
      "Your position compared to other people: 4 out of 7!\n"
     ]
    }
   ],
   "source": [
    "from ansfunctions import *\n",
    "\n",
    "run_test()"
   ]
  }
 ],
 "metadata": {
  "kernelspec": {
   "display_name": "Python 3 (ipykernel)",
   "language": "python",
   "name": "python3"
  },
  "language_info": {
   "codemirror_mode": {
    "name": "ipython",
    "version": 3
   },
   "file_extension": ".py",
   "mimetype": "text/x-python",
   "name": "python",
   "nbconvert_exporter": "python",
   "pygments_lexer": "ipython3",
   "version": "3.8.18"
  }
 },
 "nbformat": 4,
 "nbformat_minor": 5
}
