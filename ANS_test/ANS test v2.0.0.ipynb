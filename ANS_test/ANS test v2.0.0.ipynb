{
 "cells": [
  {
   "cell_type": "code",
   "execution_count": null,
   "id": "d0aee8a9-1d04-41dd-98f9-3549cce6d320",
   "metadata": {},
   "outputs": [],
   "source": [
    "## Welcome "
   ]
  },
  {
   "cell_type": "code",
   "execution_count": 1,
   "id": "a10a73f6-479f-4d00-879c-19560c8400f1",
   "metadata": {},
   "outputs": [],
   "source": [
    "from ansfunctions import *\n",
    "\n",
    "run_test()"
   ]
  },
  {
   "cell_type": "code",
   "execution_count": 2,
   "id": "ac42010d-3488-4296-bf27-2108cbdff62e",
   "metadata": {},
   "outputs": [
    {
     "data": {
      "text/html": [
       "<span style='color: yellow; font-size: 40px;'>FINISH!</span>"
      ],
      "text/plain": [
       "<IPython.core.display.HTML object>"
      ]
     },
     "metadata": {},
     "output_type": "display_data"
    },
    {
     "name": "stdout",
     "output_type": "stream",
     "text": [
      "Congrats! You scored 27%!\n",
      "[52.0, 58.0, 48.0, 59.0, nan, nan, nan, nan, nan, nan, nan, nan, 61.0]\n",
      "[52.0, 58.0, 48.0, 59.0, 61.0]\n",
      "Your position compared to other people: 6 out of 6!\n"
     ]
    }
   ],
   "source": [
    "run_test()"
   ]
  }
 ],
 "metadata": {
  "kernelspec": {
   "display_name": "Python 3 (ipykernel)",
   "language": "python",
   "name": "python3"
  },
  "language_info": {
   "codemirror_mode": {
    "name": "ipython",
    "version": 3
   },
   "file_extension": ".py",
   "mimetype": "text/x-python",
   "name": "python",
   "nbconvert_exporter": "python",
   "pygments_lexer": "ipython3",
   "version": "3.8.18"
  }
 },
 "nbformat": 4,
 "nbformat_minor": 5
}
